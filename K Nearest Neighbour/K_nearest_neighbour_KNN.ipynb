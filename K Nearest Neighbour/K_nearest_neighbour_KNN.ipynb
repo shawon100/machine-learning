{
  "nbformat": 4,
  "nbformat_minor": 0,
  "metadata": {
    "colab": {
      "name": "K nearest neighbour-KNN.ipynb",
      "version": "0.3.2",
      "views": {},
      "default_view": {},
      "provenance": []
    },
    "kernelspec": {
      "display_name": "Python 3",
      "language": "python",
      "name": "python3"
    }
  },
  "cells": [
    {
      "metadata": {
        "id": "PmEeG0e-Tb2A",
        "colab_type": "code",
        "colab": {
          "autoexec": {
            "startup": false,
            "wait_interval": 0
          }
        }
      },
      "cell_type": "code",
      "source": [
        "import numpy as np\n",
        "from collections import Counter\n",
        "import matplotlib.pyplot as plt\n",
        "import pandas as pd"
      ],
      "execution_count": 0,
      "outputs": []
    },
    {
      "metadata": {
        "id": "JdU7FZE-Tb2d",
        "colab_type": "code",
        "colab": {
          "autoexec": {
            "startup": false,
            "wait_interval": 0
          },
          "base_uri": "https://localhost:8080/",
          "height": 363
        },
        "outputId": "6a007b0a-e9ea-4a52-8cac-ed90697d3e56",
        "executionInfo": {
          "status": "ok",
          "timestamp": 1532688604764,
          "user_tz": 420,
          "elapsed": 1091,
          "user": {
            "displayName": "Ashadullah Shawon",
            "photoUrl": "//lh3.googleusercontent.com/-sv3-XbKsdZ8/AAAAAAAAAAI/AAAAAAAAAIU/bL9XT7NS8To/s50-c-k-no/photo.jpg",
            "userId": "109724312745076703020"
          }
        }
      },
      "cell_type": "code",
      "source": [
        "data=pd.read_csv('https://raw.githubusercontent.com/shawon100/Web-Log-Dataset/master/weight-height.csv')\n",
        "data.head(10)"
      ],
      "execution_count": 2,
      "outputs": [
        {
          "output_type": "execute_result",
          "data": {
            "text/html": [
              "<div>\n",
              "<style scoped>\n",
              "    .dataframe tbody tr th:only-of-type {\n",
              "        vertical-align: middle;\n",
              "    }\n",
              "\n",
              "    .dataframe tbody tr th {\n",
              "        vertical-align: top;\n",
              "    }\n",
              "\n",
              "    .dataframe thead th {\n",
              "        text-align: right;\n",
              "    }\n",
              "</style>\n",
              "<table border=\"1\" class=\"dataframe\">\n",
              "  <thead>\n",
              "    <tr style=\"text-align: right;\">\n",
              "      <th></th>\n",
              "      <th>Gender</th>\n",
              "      <th>Height</th>\n",
              "      <th>Weight</th>\n",
              "    </tr>\n",
              "  </thead>\n",
              "  <tbody>\n",
              "    <tr>\n",
              "      <th>0</th>\n",
              "      <td>Male</td>\n",
              "      <td>73.847017</td>\n",
              "      <td>241.893563</td>\n",
              "    </tr>\n",
              "    <tr>\n",
              "      <th>1</th>\n",
              "      <td>Male</td>\n",
              "      <td>68.781904</td>\n",
              "      <td>162.310473</td>\n",
              "    </tr>\n",
              "    <tr>\n",
              "      <th>2</th>\n",
              "      <td>Male</td>\n",
              "      <td>74.110105</td>\n",
              "      <td>212.740856</td>\n",
              "    </tr>\n",
              "    <tr>\n",
              "      <th>3</th>\n",
              "      <td>Male</td>\n",
              "      <td>71.730978</td>\n",
              "      <td>220.042470</td>\n",
              "    </tr>\n",
              "    <tr>\n",
              "      <th>4</th>\n",
              "      <td>Male</td>\n",
              "      <td>69.881796</td>\n",
              "      <td>206.349801</td>\n",
              "    </tr>\n",
              "    <tr>\n",
              "      <th>5</th>\n",
              "      <td>Male</td>\n",
              "      <td>67.253016</td>\n",
              "      <td>152.212156</td>\n",
              "    </tr>\n",
              "    <tr>\n",
              "      <th>6</th>\n",
              "      <td>Male</td>\n",
              "      <td>68.785081</td>\n",
              "      <td>183.927889</td>\n",
              "    </tr>\n",
              "    <tr>\n",
              "      <th>7</th>\n",
              "      <td>Male</td>\n",
              "      <td>68.348516</td>\n",
              "      <td>167.971110</td>\n",
              "    </tr>\n",
              "    <tr>\n",
              "      <th>8</th>\n",
              "      <td>Male</td>\n",
              "      <td>67.018950</td>\n",
              "      <td>175.929440</td>\n",
              "    </tr>\n",
              "    <tr>\n",
              "      <th>9</th>\n",
              "      <td>Male</td>\n",
              "      <td>63.456494</td>\n",
              "      <td>156.399676</td>\n",
              "    </tr>\n",
              "  </tbody>\n",
              "</table>\n",
              "</div>"
            ],
            "text/plain": [
              "  Gender     Height      Weight\n",
              "0   Male  73.847017  241.893563\n",
              "1   Male  68.781904  162.310473\n",
              "2   Male  74.110105  212.740856\n",
              "3   Male  71.730978  220.042470\n",
              "4   Male  69.881796  206.349801\n",
              "5   Male  67.253016  152.212156\n",
              "6   Male  68.785081  183.927889\n",
              "7   Male  68.348516  167.971110\n",
              "8   Male  67.018950  175.929440\n",
              "9   Male  63.456494  156.399676"
            ]
          },
          "metadata": {
            "tags": []
          },
          "execution_count": 2
        }
      ]
    },
    {
      "metadata": {
        "id": "LnSB6Xh7Tb2t",
        "colab_type": "code",
        "colab": {
          "autoexec": {
            "startup": false,
            "wait_interval": 0
          },
          "base_uri": "https://localhost:8080/",
          "height": 363
        },
        "outputId": "104f3c15-7096-4c9f-cbed-749b730212f8",
        "executionInfo": {
          "status": "ok",
          "timestamp": 1532688608527,
          "user_tz": 420,
          "elapsed": 1066,
          "user": {
            "displayName": "Ashadullah Shawon",
            "photoUrl": "//lh3.googleusercontent.com/-sv3-XbKsdZ8/AAAAAAAAAAI/AAAAAAAAAIU/bL9XT7NS8To/s50-c-k-no/photo.jpg",
            "userId": "109724312745076703020"
          }
        }
      },
      "cell_type": "code",
      "source": [
        "df=data\n",
        "columns=['Gender']\n",
        "df = df.drop(columns, axis=1)\n",
        "df.head(10)"
      ],
      "execution_count": 3,
      "outputs": [
        {
          "output_type": "execute_result",
          "data": {
            "text/html": [
              "<div>\n",
              "<style scoped>\n",
              "    .dataframe tbody tr th:only-of-type {\n",
              "        vertical-align: middle;\n",
              "    }\n",
              "\n",
              "    .dataframe tbody tr th {\n",
              "        vertical-align: top;\n",
              "    }\n",
              "\n",
              "    .dataframe thead th {\n",
              "        text-align: right;\n",
              "    }\n",
              "</style>\n",
              "<table border=\"1\" class=\"dataframe\">\n",
              "  <thead>\n",
              "    <tr style=\"text-align: right;\">\n",
              "      <th></th>\n",
              "      <th>Height</th>\n",
              "      <th>Weight</th>\n",
              "    </tr>\n",
              "  </thead>\n",
              "  <tbody>\n",
              "    <tr>\n",
              "      <th>0</th>\n",
              "      <td>73.847017</td>\n",
              "      <td>241.893563</td>\n",
              "    </tr>\n",
              "    <tr>\n",
              "      <th>1</th>\n",
              "      <td>68.781904</td>\n",
              "      <td>162.310473</td>\n",
              "    </tr>\n",
              "    <tr>\n",
              "      <th>2</th>\n",
              "      <td>74.110105</td>\n",
              "      <td>212.740856</td>\n",
              "    </tr>\n",
              "    <tr>\n",
              "      <th>3</th>\n",
              "      <td>71.730978</td>\n",
              "      <td>220.042470</td>\n",
              "    </tr>\n",
              "    <tr>\n",
              "      <th>4</th>\n",
              "      <td>69.881796</td>\n",
              "      <td>206.349801</td>\n",
              "    </tr>\n",
              "    <tr>\n",
              "      <th>5</th>\n",
              "      <td>67.253016</td>\n",
              "      <td>152.212156</td>\n",
              "    </tr>\n",
              "    <tr>\n",
              "      <th>6</th>\n",
              "      <td>68.785081</td>\n",
              "      <td>183.927889</td>\n",
              "    </tr>\n",
              "    <tr>\n",
              "      <th>7</th>\n",
              "      <td>68.348516</td>\n",
              "      <td>167.971110</td>\n",
              "    </tr>\n",
              "    <tr>\n",
              "      <th>8</th>\n",
              "      <td>67.018950</td>\n",
              "      <td>175.929440</td>\n",
              "    </tr>\n",
              "    <tr>\n",
              "      <th>9</th>\n",
              "      <td>63.456494</td>\n",
              "      <td>156.399676</td>\n",
              "    </tr>\n",
              "  </tbody>\n",
              "</table>\n",
              "</div>"
            ],
            "text/plain": [
              "      Height      Weight\n",
              "0  73.847017  241.893563\n",
              "1  68.781904  162.310473\n",
              "2  74.110105  212.740856\n",
              "3  71.730978  220.042470\n",
              "4  69.881796  206.349801\n",
              "5  67.253016  152.212156\n",
              "6  68.785081  183.927889\n",
              "7  68.348516  167.971110\n",
              "8  67.018950  175.929440\n",
              "9  63.456494  156.399676"
            ]
          },
          "metadata": {
            "tags": []
          },
          "execution_count": 3
        }
      ]
    },
    {
      "metadata": {
        "id": "-fEyhsXZTb22",
        "colab_type": "code",
        "colab": {
          "autoexec": {
            "startup": false,
            "wait_interval": 0
          },
          "base_uri": "https://localhost:8080/",
          "height": 979
        },
        "outputId": "95476131-1cf3-445f-9358-25e61f2137e5",
        "executionInfo": {
          "status": "ok",
          "timestamp": 1532689047286,
          "user_tz": 420,
          "elapsed": 1197,
          "user": {
            "displayName": "Ashadullah Shawon",
            "photoUrl": "//lh3.googleusercontent.com/-sv3-XbKsdZ8/AAAAAAAAAAI/AAAAAAAAAIU/bL9XT7NS8To/s50-c-k-no/photo.jpg",
            "userId": "109724312745076703020"
          }
        }
      },
      "cell_type": "code",
      "source": [
        "Xm=df[0:25]\n",
        "Xf=df[5001:5026]\n",
        "frame=[Xm,Xf]\n",
        "X_train=pd.concat(frame)\n",
        "X_train=np.array(X_train)\n",
        "print(X_train)\n",
        "X_train.shape"
      ],
      "execution_count": 22,
      "outputs": [
        {
          "output_type": "stream",
          "text": [
            "[[ 73.84701702 241.89356318]\n",
            " [ 68.78190405 162.31047252]\n",
            " [ 74.11010539 212.74085556]\n",
            " [ 71.7309784  220.0424703 ]\n",
            " [ 69.88179586 206.34980062]\n",
            " [ 67.25301569 152.21215576]\n",
            " [ 68.78508125 183.9278886 ]\n",
            " [ 68.34851551 167.97111049]\n",
            " [ 67.01894966 175.9294404 ]\n",
            " [ 63.45649398 156.39967639]\n",
            " [ 71.19538228 186.60492556]\n",
            " [ 71.64080512 213.74116949]\n",
            " [ 64.76632913 167.12746107]\n",
            " [ 69.2830701  189.44618139]\n",
            " [ 69.24373223 186.43416802]\n",
            " [ 67.6456197  172.18693006]\n",
            " [ 72.41831663 196.02850633]\n",
            " [ 63.97432572 172.88347021]\n",
            " [ 69.6400599  185.98395757]\n",
            " [ 67.93600485 182.42664801]\n",
            " [ 67.91505019 174.11592908]\n",
            " [ 69.43943987 197.73142161]\n",
            " [ 66.14913196 149.17356601]\n",
            " [ 75.20597361 228.76178062]\n",
            " [ 67.89319634 162.00665185]\n",
            " [ 65.23001251 141.3058226 ]\n",
            " [ 63.36900376 131.04140269]\n",
            " [ 64.47999743 128.17151122]\n",
            " [ 61.79309615 129.78140705]\n",
            " [ 65.96801895 156.80208261]\n",
            " [ 62.85037864 114.96903825]\n",
            " [ 65.65215644 165.08300121]\n",
            " [ 61.89023374 111.67619921]\n",
            " [ 63.67786815 104.15155964]\n",
            " [ 68.10117224 166.57566076]\n",
            " [ 61.79887853 106.23368699]\n",
            " [ 63.37145896 128.11816912]\n",
            " [ 58.89588635 101.68261336]\n",
            " [ 58.4382491   98.19262093]\n",
            " [ 60.80979868 126.91546328]\n",
            " [ 70.12865283 151.25427035]\n",
            " [ 62.25742965 115.79739341]\n",
            " [ 61.73509022 107.86687236]\n",
            " [ 63.05955669 145.58992915]\n",
            " [ 62.28683837 139.52270767]\n",
            " [ 61.82747755 122.76616667]\n",
            " [ 66.34753722 157.38096482]\n",
            " [ 65.32063203 145.03737562]\n",
            " [ 66.1038728  148.64518257]\n",
            " [ 64.52718203 132.68086824]]\n"
          ],
          "name": "stdout"
        },
        {
          "output_type": "execute_result",
          "data": {
            "text/plain": [
              "(50, 2)"
            ]
          },
          "metadata": {
            "tags": []
          },
          "execution_count": 22
        }
      ]
    },
    {
      "metadata": {
        "id": "aY8kgvRrTb3A",
        "colab_type": "code",
        "colab": {
          "autoexec": {
            "startup": false,
            "wait_interval": 0
          },
          "base_uri": "https://localhost:8080/",
          "height": 149
        },
        "outputId": "8ba95470-ecc1-4088-9959-676a5bece430",
        "executionInfo": {
          "status": "ok",
          "timestamp": 1532688698542,
          "user_tz": 420,
          "elapsed": 1073,
          "user": {
            "displayName": "Ashadullah Shawon",
            "photoUrl": "//lh3.googleusercontent.com/-sv3-XbKsdZ8/AAAAAAAAAAI/AAAAAAAAAIU/bL9XT7NS8To/s50-c-k-no/photo.jpg",
            "userId": "109724312745076703020"
          }
        }
      },
      "cell_type": "code",
      "source": [
        "lbl=data['Gender']\n",
        "ym=lbl[0:25]\n",
        "yf=lbl[5001:5026]\n",
        "frames=[ym,yf]\n",
        "Y_train=pd.concat(frames)\n",
        "Y_train=np.array(Y_train)\n",
        "print(Y_train)\n",
        "Y_train.shape"
      ],
      "execution_count": 7,
      "outputs": [
        {
          "output_type": "stream",
          "text": [
            "['Male' 'Male' 'Male' 'Male' 'Male' 'Male' 'Male' 'Male' 'Male' 'Male'\n",
            " 'Male' 'Male' 'Male' 'Male' 'Male' 'Male' 'Male' 'Male' 'Male' 'Male'\n",
            " 'Male' 'Male' 'Male' 'Male' 'Male' 'Female' 'Female' 'Female' 'Female'\n",
            " 'Female' 'Female' 'Female' 'Female' 'Female' 'Female' 'Female' 'Female'\n",
            " 'Female' 'Female' 'Female' 'Female' 'Female' 'Female' 'Female' 'Female'\n",
            " 'Female' 'Female' 'Female' 'Female' 'Female']\n"
          ],
          "name": "stdout"
        },
        {
          "output_type": "execute_result",
          "data": {
            "text/plain": [
              "(50,)"
            ]
          },
          "metadata": {
            "tags": []
          },
          "execution_count": 7
        }
      ]
    },
    {
      "metadata": {
        "id": "3O0v09mNTb3L",
        "colab_type": "code",
        "colab": {
          "autoexec": {
            "startup": false,
            "wait_interval": 0
          },
          "base_uri": "https://localhost:8080/",
          "height": 74
        },
        "outputId": "d6167527-c769-4a47-a52b-cd3e84fca56c",
        "executionInfo": {
          "status": "ok",
          "timestamp": 1532688706536,
          "user_tz": 420,
          "elapsed": 1240,
          "user": {
            "displayName": "Ashadullah Shawon",
            "photoUrl": "//lh3.googleusercontent.com/-sv3-XbKsdZ8/AAAAAAAAAAI/AAAAAAAAAIU/bL9XT7NS8To/s50-c-k-no/photo.jpg",
            "userId": "109724312745076703020"
          }
        }
      },
      "cell_type": "code",
      "source": [
        "label=data['Gender']\n",
        "lb=label[400:410]\n",
        "lc=label[9000:9010]\n",
        "frames=[lb,lc]\n",
        "Y=pd.concat(frames)\n",
        "Y=np.array(Y)\n",
        "print(Y)"
      ],
      "execution_count": 8,
      "outputs": [
        {
          "output_type": "stream",
          "text": [
            "['Male' 'Male' 'Male' 'Male' 'Male' 'Male' 'Male' 'Male' 'Male' 'Male'\n",
            " 'Female' 'Female' 'Female' 'Female' 'Female' 'Female' 'Female' 'Female'\n",
            " 'Female' 'Female']\n"
          ],
          "name": "stdout"
        }
      ]
    },
    {
      "metadata": {
        "id": "npCXbOrUTb3d",
        "colab_type": "code",
        "colab": {
          "autoexec": {
            "startup": false,
            "wait_interval": 0
          },
          "base_uri": "https://localhost:8080/",
          "height": 361
        },
        "outputId": "472c41e5-6c30-4871-fa8e-028608855567",
        "executionInfo": {
          "status": "ok",
          "timestamp": 1532688731752,
          "user_tz": 420,
          "elapsed": 1355,
          "user": {
            "displayName": "Ashadullah Shawon",
            "photoUrl": "//lh3.googleusercontent.com/-sv3-XbKsdZ8/AAAAAAAAAAI/AAAAAAAAAIU/bL9XT7NS8To/s50-c-k-no/photo.jpg",
            "userId": "109724312745076703020"
          }
        }
      },
      "cell_type": "code",
      "source": [
        "x = data['Height']\n",
        "y=data['Weight']\n",
        "male=x[0:25]\n",
        "female=x[5001:5026]\n",
        "wm=y[0:25]\n",
        "wf=y[5001:5026]\n",
        "plt.scatter(male,wm, color='b')\n",
        "plt.scatter(female,wf,color='g')\n",
        "plt.xlabel('Male')\n",
        "plt.ylabel('Female')\n",
        "plt.show()"
      ],
      "execution_count": 10,
      "outputs": [
        {
          "output_type": "display_data",
          "data": {
            "image/png": "[encoded data removed]",
            "text/plain": [
              "<matplotlib.figure.Figure at 0x7f759714e1d0>"
            ]
          },
          "metadata": {
            "tags": []
          }
        }
      ]
    },
    {
      "metadata": {
        "id": "u-edywH0Tb3y",
        "colab_type": "code",
        "colab": {
          "autoexec": {
            "startup": false,
            "wait_interval": 0
          },
          "base_uri": "https://localhost:8080/",
          "height": 413
        },
        "outputId": "8567d242-25c4-4b92-ca48-da3afc3f2f27",
        "executionInfo": {
          "status": "ok",
          "timestamp": 1532688756187,
          "user_tz": 420,
          "elapsed": 988,
          "user": {
            "displayName": "Ashadullah Shawon",
            "photoUrl": "//lh3.googleusercontent.com/-sv3-XbKsdZ8/AAAAAAAAAAI/AAAAAAAAAIU/bL9XT7NS8To/s50-c-k-no/photo.jpg",
            "userId": "109724312745076703020"
          }
        }
      },
      "cell_type": "code",
      "source": [
        "testx=df[400:410]\n",
        "testy=df[9000:9010]\n",
        "frames=[testx,testy]\n",
        "X=pd.concat(frames)\n",
        "X=np.array(X)\n",
        "print(X)\n",
        "X.shape"
      ],
      "execution_count": 11,
      "outputs": [
        {
          "output_type": "stream",
          "text": [
            "[[ 69.97090362 202.86329303]\n",
            " [ 65.31346154 163.35733152]\n",
            " [ 71.90600544 217.02771464]\n",
            " [ 66.23390404 183.16123246]\n",
            " [ 65.81494282 166.58361051]\n",
            " [ 72.84494786 205.25088915]\n",
            " [ 70.94944345 189.70308882]\n",
            " [ 71.34380763 218.5863364 ]\n",
            " [ 71.05566416 203.13943303]\n",
            " [ 61.92554729 139.90507032]\n",
            " [ 58.52542646 107.79249645]\n",
            " [ 60.34078108 111.07775447]\n",
            " [ 61.43391285  97.05854929]\n",
            " [ 65.47590249 154.4408869 ]\n",
            " [ 60.48444501 121.79779334]\n",
            " [ 62.00031639 117.04835397]\n",
            " [ 59.66765209 114.3868654 ]\n",
            " [ 63.80329944 124.81306876]\n",
            " [ 62.86838051 132.69486866]\n",
            " [ 66.40655275 161.17621832]]\n"
          ],
          "name": "stdout"
        },
        {
          "output_type": "execute_result",
          "data": {
            "text/plain": [
              "(20, 2)"
            ]
          },
          "metadata": {
            "tags": []
          },
          "execution_count": 11
        }
      ]
    },
    {
      "metadata": {
        "id": "pS0C6g2RTb4A",
        "colab_type": "code",
        "colab": {
          "autoexec": {
            "startup": false,
            "wait_interval": 0
          }
        }
      },
      "cell_type": "code",
      "source": [
        "def predict(input_feature_set, k):\n",
        "    distances = []\n",
        "    z=0\n",
        "    for training_feature_set in X_train:\n",
        "        group=Y_train[z]\n",
        "        #print(\"Group=\",group)\n",
        "        #print(\"Training Feature=\",training_feature_set)\n",
        "        euclidean_distance = np.linalg.norm(np.array(input_feature_set) - np.array(training_feature_set))\n",
        "        #print(\"Distance=\",euclidean_distance)\n",
        "        distances.append([euclidean_distance, group])\n",
        "        z=z+1\n",
        "        #print(z)\n",
        "\n",
        "    nearest = sorted(distances)[:k]\n",
        "    #print(\"Sorted=\",nearest)\n",
        "    votes=[]\n",
        "    #votes = [d[1] for d in nearest] \n",
        "    for d in nearest:\n",
        "        votes.append(d[1])\n",
        "    #print(votes)\n",
        "    #prediction = Counter(votes).most_common(1)[0][0]\n",
        "    item={}\n",
        "    for i in votes:\n",
        "        if i in item:\n",
        "            item[i]=item[i]+1\n",
        "        else:\n",
        "            item[i]=1\n",
        "            \n",
        "    #finding most common class        \n",
        "    m=0\n",
        "    for k in item:\n",
        "        if item[k]>m:\n",
        "            m=item[k]\n",
        "    \n",
        "    for k in item:\n",
        "        if item[k]==m:\n",
        "            index=k\n",
        "            \n",
        "    prediction=index\n",
        "        \n",
        "\n",
        "    return prediction"
      ],
      "execution_count": 0,
      "outputs": []
    },
    {
      "metadata": {
        "id": "wzC28Ip0Tb4M",
        "colab_type": "code",
        "colab": {
          "autoexec": {
            "startup": false,
            "wait_interval": 0
          },
          "base_uri": "https://localhost:8080/",
          "height": 75
        },
        "outputId": "38f69890-fdad-4d3a-b9d6-a45f5b1bdcf2",
        "executionInfo": {
          "status": "ok",
          "timestamp": 1532689059882,
          "user_tz": 420,
          "elapsed": 1966,
          "user": {
            "displayName": "Ashadullah Shawon",
            "photoUrl": "//lh3.googleusercontent.com/-sv3-XbKsdZ8/AAAAAAAAAAI/AAAAAAAAAIU/bL9XT7NS8To/s50-c-k-no/photo.jpg",
            "userId": "109724312745076703020"
          }
        }
      },
      "cell_type": "code",
      "source": [
        "#Training\n",
        "toutput=[]\n",
        "for j in X_train:\n",
        "    predicted=predict(j,3)\n",
        "    toutput.append(predicted)\n",
        "print(\"Output=\",toutput)\n",
        "print(len(toutput))"
      ],
      "execution_count": 23,
      "outputs": [
        {
          "output_type": "stream",
          "text": [
            "Output= ['Male', 'Male', 'Male', 'Male', 'Male', 'Male', 'Male', 'Male', 'Male', 'Female', 'Male', 'Male', 'Female', 'Male', 'Male', 'Male', 'Male', 'Male', 'Male', 'Male', 'Male', 'Male', 'Male', 'Male', 'Male', 'Female', 'Female', 'Female', 'Female', 'Female', 'Female', 'Female', 'Female', 'Female', 'Female', 'Female', 'Female', 'Female', 'Female', 'Female', 'Male', 'Female', 'Female', 'Female', 'Female', 'Female', 'Female', 'Female', 'Female', 'Female']\n",
            "50\n"
          ],
          "name": "stdout"
        }
      ]
    },
    {
      "metadata": {
        "id": "ANrDGm8iYKCI",
        "colab_type": "code",
        "colab": {
          "autoexec": {
            "startup": false,
            "wait_interval": 0
          },
          "base_uri": "https://localhost:8080/",
          "height": 36
        },
        "outputId": "deb6d265-6d7a-456f-f6a5-97ab09eb6975",
        "executionInfo": {
          "status": "ok",
          "timestamp": 1532689064157,
          "user_tz": 420,
          "elapsed": 1032,
          "user": {
            "displayName": "Ashadullah Shawon",
            "photoUrl": "//lh3.googleusercontent.com/-sv3-XbKsdZ8/AAAAAAAAAAI/AAAAAAAAAIU/bL9XT7NS8To/s50-c-k-no/photo.jpg",
            "userId": "109724312745076703020"
          }
        }
      },
      "cell_type": "code",
      "source": [
        "c=0\n",
        "for p in range(0,50):\n",
        "        if toutput[p]==Y_train[p]:\n",
        "            c=c+1\n",
        "result=(c/50.0)*100\n",
        "print(\"Training Accuracy=\",result,\"%\")"
      ],
      "execution_count": 24,
      "outputs": [
        {
          "output_type": "stream",
          "text": [
            "Training Accuracy= 94.0 %\n"
          ],
          "name": "stdout"
        }
      ]
    },
    {
      "metadata": {
        "id": "KXs8D6O4Tb4Y",
        "colab_type": "code",
        "colab": {
          "autoexec": {
            "startup": false,
            "wait_interval": 0
          },
          "base_uri": "https://localhost:8080/",
          "height": 56
        },
        "outputId": "12dc4e41-1a7d-4aa8-b9cc-23bfb9cc4e59",
        "executionInfo": {
          "status": "ok",
          "timestamp": 1532689083705,
          "user_tz": 420,
          "elapsed": 3169,
          "user": {
            "displayName": "Ashadullah Shawon",
            "photoUrl": "//lh3.googleusercontent.com/-sv3-XbKsdZ8/AAAAAAAAAAI/AAAAAAAAAIU/bL9XT7NS8To/s50-c-k-no/photo.jpg",
            "userId": "109724312745076703020"
          }
        }
      },
      "cell_type": "code",
      "source": [
        "output=[]\n",
        "for j in X:\n",
        "    predicted=predict(j,3)\n",
        "    output.append(predicted)\n",
        "print(\"Output=\",output)"
      ],
      "execution_count": 25,
      "outputs": [
        {
          "output_type": "stream",
          "text": [
            "Output= ['Male', 'Male', 'Male', 'Male', 'Female', 'Male', 'Male', 'Male', 'Male', 'Female', 'Female', 'Female', 'Female', 'Male', 'Female', 'Female', 'Female', 'Female', 'Female', 'Male']\n"
          ],
          "name": "stdout"
        }
      ]
    },
    {
      "metadata": {
        "id": "PBwu1ux0Tb4g",
        "colab_type": "code",
        "colab": {
          "autoexec": {
            "startup": false,
            "wait_interval": 0
          },
          "base_uri": "https://localhost:8080/",
          "height": 36
        },
        "outputId": "b543d411-8d11-46c6-fceb-3a5d9381e863",
        "executionInfo": {
          "status": "ok",
          "timestamp": 1532689091658,
          "user_tz": 420,
          "elapsed": 997,
          "user": {
            "displayName": "Ashadullah Shawon",
            "photoUrl": "//lh3.googleusercontent.com/-sv3-XbKsdZ8/AAAAAAAAAAI/AAAAAAAAAIU/bL9XT7NS8To/s50-c-k-no/photo.jpg",
            "userId": "109724312745076703020"
          }
        }
      },
      "cell_type": "code",
      "source": [
        "c=0\n",
        "for p in range(0,20):\n",
        "        if output[p]==Y[p]:\n",
        "            c=c+1\n",
        "result=(c/20.0)*100\n",
        "print(\"Testing Accuracy=\",result,\"%\")"
      ],
      "execution_count": 26,
      "outputs": [
        {
          "output_type": "stream",
          "text": [
            "Testing Accuracy= 80.0 %\n"
          ],
          "name": "stdout"
        }
      ]
    },
    {
      "metadata": {
        "id": "CMIxGfMTTb4p",
        "colab_type": "code",
        "colab": {
          "autoexec": {
            "startup": false,
            "wait_interval": 0
          }
        }
      },
      "cell_type": "code",
      "source": [
        ""
      ],
      "execution_count": 0,
      "outputs": []
    }
  ]
}